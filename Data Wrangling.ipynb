{
 "cells": [
  {
   "cell_type": "markdown",
   "id": "4e8078c9",
   "metadata": {},
   "source": [
    "# Data Wrangling "
   ]
  },
  {
   "cell_type": "markdown",
   "id": "a21ccf0a",
   "metadata": {},
   "source": [
    "https://www.kaggle.com/datasets/harlfoxem/housesalesprediction\n",
    "\n",
    "- This dataset contains house sale prices for King County, Seattle. \n",
    "- It includes homes sold between May 2014 and May 2015."
   ]
  },
  {
   "cell_type": "code",
   "execution_count": 27,
   "id": "da33915d",
   "metadata": {},
   "outputs": [],
   "source": [
    "import pandas as pd\n",
    "import numpy as np\n",
    "import matplotlib.pyplot as plt\n",
    "import seaborn as sns"
   ]
  },
  {
   "cell_type": "code",
   "execution_count": 28,
   "id": "2a7605cc",
   "metadata": {},
   "outputs": [
    {
     "data": {
      "text/html": [
       "<div>\n",
       "<style scoped>\n",
       "    .dataframe tbody tr th:only-of-type {\n",
       "        vertical-align: middle;\n",
       "    }\n",
       "\n",
       "    .dataframe tbody tr th {\n",
       "        vertical-align: top;\n",
       "    }\n",
       "\n",
       "    .dataframe thead th {\n",
       "        text-align: right;\n",
       "    }\n",
       "</style>\n",
       "<table border=\"1\" class=\"dataframe\">\n",
       "  <thead>\n",
       "    <tr style=\"text-align: right;\">\n",
       "      <th></th>\n",
       "      <th>id</th>\n",
       "      <th>date</th>\n",
       "      <th>price</th>\n",
       "      <th>bedrooms</th>\n",
       "      <th>bathrooms</th>\n",
       "      <th>sqft_living</th>\n",
       "      <th>sqft_lot</th>\n",
       "      <th>floors</th>\n",
       "      <th>waterfront</th>\n",
       "      <th>view</th>\n",
       "      <th>...</th>\n",
       "      <th>grade</th>\n",
       "      <th>sqft_above</th>\n",
       "      <th>sqft_basement</th>\n",
       "      <th>yr_built</th>\n",
       "      <th>yr_renovated</th>\n",
       "      <th>zipcode</th>\n",
       "      <th>lat</th>\n",
       "      <th>long</th>\n",
       "      <th>sqft_living15</th>\n",
       "      <th>sqft_lot15</th>\n",
       "    </tr>\n",
       "  </thead>\n",
       "  <tbody>\n",
       "    <tr>\n",
       "      <th>0</th>\n",
       "      <td>7129300520</td>\n",
       "      <td>20141013T000000</td>\n",
       "      <td>221900.0</td>\n",
       "      <td>3</td>\n",
       "      <td>1.00</td>\n",
       "      <td>1180</td>\n",
       "      <td>5650</td>\n",
       "      <td>1.0</td>\n",
       "      <td>0</td>\n",
       "      <td>0</td>\n",
       "      <td>...</td>\n",
       "      <td>7</td>\n",
       "      <td>1180</td>\n",
       "      <td>0</td>\n",
       "      <td>1955</td>\n",
       "      <td>0</td>\n",
       "      <td>98178</td>\n",
       "      <td>47.5112</td>\n",
       "      <td>-122.257</td>\n",
       "      <td>1340</td>\n",
       "      <td>5650</td>\n",
       "    </tr>\n",
       "    <tr>\n",
       "      <th>1</th>\n",
       "      <td>6414100192</td>\n",
       "      <td>20141209T000000</td>\n",
       "      <td>538000.0</td>\n",
       "      <td>3</td>\n",
       "      <td>2.25</td>\n",
       "      <td>2570</td>\n",
       "      <td>7242</td>\n",
       "      <td>2.0</td>\n",
       "      <td>0</td>\n",
       "      <td>0</td>\n",
       "      <td>...</td>\n",
       "      <td>7</td>\n",
       "      <td>2170</td>\n",
       "      <td>400</td>\n",
       "      <td>1951</td>\n",
       "      <td>1991</td>\n",
       "      <td>98125</td>\n",
       "      <td>47.7210</td>\n",
       "      <td>-122.319</td>\n",
       "      <td>1690</td>\n",
       "      <td>7639</td>\n",
       "    </tr>\n",
       "    <tr>\n",
       "      <th>2</th>\n",
       "      <td>5631500400</td>\n",
       "      <td>20150225T000000</td>\n",
       "      <td>180000.0</td>\n",
       "      <td>2</td>\n",
       "      <td>1.00</td>\n",
       "      <td>770</td>\n",
       "      <td>10000</td>\n",
       "      <td>1.0</td>\n",
       "      <td>0</td>\n",
       "      <td>0</td>\n",
       "      <td>...</td>\n",
       "      <td>6</td>\n",
       "      <td>770</td>\n",
       "      <td>0</td>\n",
       "      <td>1933</td>\n",
       "      <td>0</td>\n",
       "      <td>98028</td>\n",
       "      <td>47.7379</td>\n",
       "      <td>-122.233</td>\n",
       "      <td>2720</td>\n",
       "      <td>8062</td>\n",
       "    </tr>\n",
       "    <tr>\n",
       "      <th>3</th>\n",
       "      <td>2487200875</td>\n",
       "      <td>20141209T000000</td>\n",
       "      <td>604000.0</td>\n",
       "      <td>4</td>\n",
       "      <td>3.00</td>\n",
       "      <td>1960</td>\n",
       "      <td>5000</td>\n",
       "      <td>1.0</td>\n",
       "      <td>0</td>\n",
       "      <td>0</td>\n",
       "      <td>...</td>\n",
       "      <td>7</td>\n",
       "      <td>1050</td>\n",
       "      <td>910</td>\n",
       "      <td>1965</td>\n",
       "      <td>0</td>\n",
       "      <td>98136</td>\n",
       "      <td>47.5208</td>\n",
       "      <td>-122.393</td>\n",
       "      <td>1360</td>\n",
       "      <td>5000</td>\n",
       "    </tr>\n",
       "    <tr>\n",
       "      <th>4</th>\n",
       "      <td>1954400510</td>\n",
       "      <td>20150218T000000</td>\n",
       "      <td>510000.0</td>\n",
       "      <td>3</td>\n",
       "      <td>2.00</td>\n",
       "      <td>1680</td>\n",
       "      <td>8080</td>\n",
       "      <td>1.0</td>\n",
       "      <td>0</td>\n",
       "      <td>0</td>\n",
       "      <td>...</td>\n",
       "      <td>8</td>\n",
       "      <td>1680</td>\n",
       "      <td>0</td>\n",
       "      <td>1987</td>\n",
       "      <td>0</td>\n",
       "      <td>98074</td>\n",
       "      <td>47.6168</td>\n",
       "      <td>-122.045</td>\n",
       "      <td>1800</td>\n",
       "      <td>7503</td>\n",
       "    </tr>\n",
       "  </tbody>\n",
       "</table>\n",
       "<p>5 rows × 21 columns</p>\n",
       "</div>"
      ],
      "text/plain": [
       "           id             date     price  bedrooms  bathrooms  sqft_living  \\\n",
       "0  7129300520  20141013T000000  221900.0         3       1.00         1180   \n",
       "1  6414100192  20141209T000000  538000.0         3       2.25         2570   \n",
       "2  5631500400  20150225T000000  180000.0         2       1.00          770   \n",
       "3  2487200875  20141209T000000  604000.0         4       3.00         1960   \n",
       "4  1954400510  20150218T000000  510000.0         3       2.00         1680   \n",
       "\n",
       "   sqft_lot  floors  waterfront  view  ...  grade  sqft_above  sqft_basement  \\\n",
       "0      5650     1.0           0     0  ...      7        1180              0   \n",
       "1      7242     2.0           0     0  ...      7        2170            400   \n",
       "2     10000     1.0           0     0  ...      6         770              0   \n",
       "3      5000     1.0           0     0  ...      7        1050            910   \n",
       "4      8080     1.0           0     0  ...      8        1680              0   \n",
       "\n",
       "   yr_built  yr_renovated  zipcode      lat     long  sqft_living15  \\\n",
       "0      1955             0    98178  47.5112 -122.257           1340   \n",
       "1      1951          1991    98125  47.7210 -122.319           1690   \n",
       "2      1933             0    98028  47.7379 -122.233           2720   \n",
       "3      1965             0    98136  47.5208 -122.393           1360   \n",
       "4      1987             0    98074  47.6168 -122.045           1800   \n",
       "\n",
       "   sqft_lot15  \n",
       "0        5650  \n",
       "1        7639  \n",
       "2        8062  \n",
       "3        5000  \n",
       "4        7503  \n",
       "\n",
       "[5 rows x 21 columns]"
      ]
     },
     "execution_count": 28,
     "metadata": {},
     "output_type": "execute_result"
    }
   ],
   "source": [
    "data = pd.read_csv('kc_house_data.csv')\n",
    "data.head()"
   ]
  },
  {
   "cell_type": "markdown",
   "id": "34a7986f",
   "metadata": {},
   "source": [
    "## Data Inspection:"
   ]
  },
  {
   "cell_type": "code",
   "execution_count": 29,
   "id": "afcc94eb",
   "metadata": {
    "scrolled": false
   },
   "outputs": [
    {
     "name": "stdout",
     "output_type": "stream",
     "text": [
      "<class 'pandas.core.frame.DataFrame'>\n",
      "RangeIndex: 21613 entries, 0 to 21612\n",
      "Data columns (total 21 columns):\n",
      " #   Column         Non-Null Count  Dtype  \n",
      "---  ------         --------------  -----  \n",
      " 0   id             21613 non-null  int64  \n",
      " 1   date           21613 non-null  object \n",
      " 2   price          21613 non-null  float64\n",
      " 3   bedrooms       21613 non-null  int64  \n",
      " 4   bathrooms      21613 non-null  float64\n",
      " 5   sqft_living    21613 non-null  int64  \n",
      " 6   sqft_lot       21613 non-null  int64  \n",
      " 7   floors         21613 non-null  float64\n",
      " 8   waterfront     21613 non-null  int64  \n",
      " 9   view           21613 non-null  int64  \n",
      " 10  condition      21613 non-null  int64  \n",
      " 11  grade          21613 non-null  int64  \n",
      " 12  sqft_above     21613 non-null  int64  \n",
      " 13  sqft_basement  21613 non-null  int64  \n",
      " 14  yr_built       21613 non-null  int64  \n",
      " 15  yr_renovated   21613 non-null  int64  \n",
      " 16  zipcode        21613 non-null  int64  \n",
      " 17  lat            21613 non-null  float64\n",
      " 18  long           21613 non-null  float64\n",
      " 19  sqft_living15  21613 non-null  int64  \n",
      " 20  sqft_lot15     21613 non-null  int64  \n",
      "dtypes: float64(5), int64(15), object(1)\n",
      "memory usage: 3.5+ MB\n"
     ]
    }
   ],
   "source": [
    "data.info()"
   ]
  },
  {
   "cell_type": "code",
   "execution_count": 30,
   "id": "dba4e34c",
   "metadata": {},
   "outputs": [
    {
     "data": {
      "text/plain": [
       "id               0\n",
       "date             0\n",
       "price            0\n",
       "bedrooms         0\n",
       "bathrooms        0\n",
       "sqft_living      0\n",
       "sqft_lot         0\n",
       "floors           0\n",
       "waterfront       0\n",
       "view             0\n",
       "condition        0\n",
       "grade            0\n",
       "sqft_above       0\n",
       "sqft_basement    0\n",
       "yr_built         0\n",
       "yr_renovated     0\n",
       "zipcode          0\n",
       "lat              0\n",
       "long             0\n",
       "sqft_living15    0\n",
       "sqft_lot15       0\n",
       "dtype: int64"
      ]
     },
     "execution_count": 30,
     "metadata": {},
     "output_type": "execute_result"
    }
   ],
   "source": [
    "data.isnull().sum()"
   ]
  },
  {
   "cell_type": "code",
   "execution_count": 31,
   "id": "15962108",
   "metadata": {},
   "outputs": [
    {
     "name": "stdout",
     "output_type": "stream",
     "text": [
      "First 5 rows of column 'id':\n",
      "0    7129300520\n",
      "1    6414100192\n",
      "2    5631500400\n",
      "3    2487200875\n",
      "4    1954400510\n",
      "Name: id, dtype: int64\n",
      "\n",
      "\n",
      "First 5 rows of column 'date':\n",
      "0    20141013T000000\n",
      "1    20141209T000000\n",
      "2    20150225T000000\n",
      "3    20141209T000000\n",
      "4    20150218T000000\n",
      "Name: date, dtype: object\n",
      "\n",
      "\n",
      "First 5 rows of column 'price':\n",
      "0    221900.0\n",
      "1    538000.0\n",
      "2    180000.0\n",
      "3    604000.0\n",
      "4    510000.0\n",
      "Name: price, dtype: float64\n",
      "\n",
      "\n",
      "First 5 rows of column 'bedrooms':\n",
      "0    3\n",
      "1    3\n",
      "2    2\n",
      "3    4\n",
      "4    3\n",
      "Name: bedrooms, dtype: int64\n",
      "\n",
      "\n",
      "First 5 rows of column 'bathrooms':\n",
      "0    1.00\n",
      "1    2.25\n",
      "2    1.00\n",
      "3    3.00\n",
      "4    2.00\n",
      "Name: bathrooms, dtype: float64\n",
      "\n",
      "\n",
      "First 5 rows of column 'sqft_living':\n",
      "0    1180\n",
      "1    2570\n",
      "2     770\n",
      "3    1960\n",
      "4    1680\n",
      "Name: sqft_living, dtype: int64\n",
      "\n",
      "\n",
      "First 5 rows of column 'sqft_lot':\n",
      "0     5650\n",
      "1     7242\n",
      "2    10000\n",
      "3     5000\n",
      "4     8080\n",
      "Name: sqft_lot, dtype: int64\n",
      "\n",
      "\n",
      "First 5 rows of column 'floors':\n",
      "0    1.0\n",
      "1    2.0\n",
      "2    1.0\n",
      "3    1.0\n",
      "4    1.0\n",
      "Name: floors, dtype: float64\n",
      "\n",
      "\n",
      "First 5 rows of column 'waterfront':\n",
      "0    0\n",
      "1    0\n",
      "2    0\n",
      "3    0\n",
      "4    0\n",
      "Name: waterfront, dtype: int64\n",
      "\n",
      "\n",
      "First 5 rows of column 'view':\n",
      "0    0\n",
      "1    0\n",
      "2    0\n",
      "3    0\n",
      "4    0\n",
      "Name: view, dtype: int64\n",
      "\n",
      "\n",
      "First 5 rows of column 'condition':\n",
      "0    3\n",
      "1    3\n",
      "2    3\n",
      "3    5\n",
      "4    3\n",
      "Name: condition, dtype: int64\n",
      "\n",
      "\n",
      "First 5 rows of column 'grade':\n",
      "0    7\n",
      "1    7\n",
      "2    6\n",
      "3    7\n",
      "4    8\n",
      "Name: grade, dtype: int64\n",
      "\n",
      "\n",
      "First 5 rows of column 'sqft_above':\n",
      "0    1180\n",
      "1    2170\n",
      "2     770\n",
      "3    1050\n",
      "4    1680\n",
      "Name: sqft_above, dtype: int64\n",
      "\n",
      "\n",
      "First 5 rows of column 'sqft_basement':\n",
      "0      0\n",
      "1    400\n",
      "2      0\n",
      "3    910\n",
      "4      0\n",
      "Name: sqft_basement, dtype: int64\n",
      "\n",
      "\n",
      "First 5 rows of column 'yr_built':\n",
      "0    1955\n",
      "1    1951\n",
      "2    1933\n",
      "3    1965\n",
      "4    1987\n",
      "Name: yr_built, dtype: int64\n",
      "\n",
      "\n",
      "First 5 rows of column 'yr_renovated':\n",
      "0       0\n",
      "1    1991\n",
      "2       0\n",
      "3       0\n",
      "4       0\n",
      "Name: yr_renovated, dtype: int64\n",
      "\n",
      "\n",
      "First 5 rows of column 'zipcode':\n",
      "0    98178\n",
      "1    98125\n",
      "2    98028\n",
      "3    98136\n",
      "4    98074\n",
      "Name: zipcode, dtype: int64\n",
      "\n",
      "\n",
      "First 5 rows of column 'lat':\n",
      "0    47.5112\n",
      "1    47.7210\n",
      "2    47.7379\n",
      "3    47.5208\n",
      "4    47.6168\n",
      "Name: lat, dtype: float64\n",
      "\n",
      "\n",
      "First 5 rows of column 'long':\n",
      "0   -122.257\n",
      "1   -122.319\n",
      "2   -122.233\n",
      "3   -122.393\n",
      "4   -122.045\n",
      "Name: long, dtype: float64\n",
      "\n",
      "\n",
      "First 5 rows of column 'sqft_living15':\n",
      "0    1340\n",
      "1    1690\n",
      "2    2720\n",
      "3    1360\n",
      "4    1800\n",
      "Name: sqft_living15, dtype: int64\n",
      "\n",
      "\n",
      "First 5 rows of column 'sqft_lot15':\n",
      "0    5650\n",
      "1    7639\n",
      "2    8062\n",
      "3    5000\n",
      "4    7503\n",
      "Name: sqft_lot15, dtype: int64\n",
      "\n",
      "\n"
     ]
    }
   ],
   "source": [
    "for column in data.columns:\n",
    "    print(f\"First 5 rows of column '{column}':\")\n",
    "    print(data[column].head())\n",
    "    print(\"\\n\")"
   ]
  },
  {
   "cell_type": "code",
   "execution_count": 32,
   "id": "38bec491",
   "metadata": {},
   "outputs": [
    {
     "data": {
      "text/plain": [
       "0   2014-10-13\n",
       "1   2014-12-09\n",
       "2   2015-02-25\n",
       "3   2014-12-09\n",
       "4   2015-02-18\n",
       "Name: date, dtype: datetime64[ns]"
      ]
     },
     "execution_count": 32,
     "metadata": {},
     "output_type": "execute_result"
    }
   ],
   "source": [
    "# convert 'date' column to a standard date format\n",
    "data['date'] = pd.to_datetime(data['date'], format='%Y%m%dT%H%M%S')\n",
    "\n",
    "data['date'].head()"
   ]
  },
  {
   "cell_type": "code",
   "execution_count": 33,
   "id": "5ed51b1d",
   "metadata": {},
   "outputs": [
    {
     "data": {
      "text/plain": [
       "2.50    5380\n",
       "1.00    3852\n",
       "1.75    3048\n",
       "2.25    2047\n",
       "2.00    1930\n",
       "1.50    1446\n",
       "2.75    1185\n",
       "3.00     753\n",
       "3.50     731\n",
       "3.25     589\n",
       "3.75     155\n",
       "4.00     136\n",
       "4.50     100\n",
       "4.25      79\n",
       "0.75      72\n",
       "4.75      23\n",
       "5.00      21\n",
       "5.25      13\n",
       "0.00      10\n",
       "5.50      10\n",
       "1.25       9\n",
       "6.00       6\n",
       "0.50       4\n",
       "5.75       4\n",
       "6.75       2\n",
       "8.00       2\n",
       "6.25       2\n",
       "6.50       2\n",
       "7.50       1\n",
       "7.75       1\n",
       "Name: bathrooms, dtype: int64"
      ]
     },
     "execution_count": 33,
     "metadata": {},
     "output_type": "execute_result"
    }
   ],
   "source": [
    "# unique values and counts in the 'bathrooms' column\n",
    "data['bathrooms'].value_counts()"
   ]
  },
  {
   "cell_type": "markdown",
   "id": "dad3c1db",
   "metadata": {},
   "source": [
    "1.5 Bathrooms:\n",
    "\n",
    "The partial component of the second bathroom could include a toilet and a sink, but it may not include a bathtub or shower.\n",
    "\n",
    "1.75 Bathrooms:\n",
    "\n",
    "This partial component might include a toilet, a sink, and a shower, but it may not include a bathtub."
   ]
  },
  {
   "cell_type": "code",
   "execution_count": 34,
   "id": "236c20ac",
   "metadata": {},
   "outputs": [
    {
     "data": {
      "text/plain": [
       "1.0    10680\n",
       "2.0     8241\n",
       "1.5     1910\n",
       "3.0      613\n",
       "2.5      161\n",
       "3.5        8\n",
       "Name: floors, dtype: int64"
      ]
     },
     "execution_count": 34,
     "metadata": {},
     "output_type": "execute_result"
    }
   ],
   "source": [
    "# unique values and counts in the 'floors' column\n",
    "data['floors'].value_counts()"
   ]
  },
  {
   "cell_type": "markdown",
   "id": "4d47c85e",
   "metadata": {},
   "source": [
    "The partial floor is often located within the upper level of the property and may include rooms or living spaces that are under the sloped roof, such as attic rooms or loft spaces."
   ]
  },
  {
   "cell_type": "code",
   "execution_count": 35,
   "id": "eea754e7",
   "metadata": {},
   "outputs": [
    {
     "data": {
      "text/plain": [
       "0    21450\n",
       "1      163\n",
       "Name: waterfront, dtype: int64"
      ]
     },
     "execution_count": 35,
     "metadata": {},
     "output_type": "execute_result"
    }
   ],
   "source": [
    "data['waterfront'].value_counts()"
   ]
  },
  {
   "cell_type": "code",
   "execution_count": 36,
   "id": "1389aea0",
   "metadata": {},
   "outputs": [
    {
     "data": {
      "text/plain": [
       "0    19489\n",
       "2      963\n",
       "3      510\n",
       "1      332\n",
       "4      319\n",
       "Name: view, dtype: int64"
      ]
     },
     "execution_count": 36,
     "metadata": {},
     "output_type": "execute_result"
    }
   ],
   "source": [
    "data['view'].value_counts()"
   ]
  },
  {
   "cell_type": "markdown",
   "id": "2ec5c43f",
   "metadata": {},
   "source": [
    "## Categorical variables: "
   ]
  },
  {
   "cell_type": "code",
   "execution_count": 37,
   "id": "d0ac132f",
   "metadata": {
    "scrolled": true
   },
   "outputs": [
    {
     "name": "stdout",
     "output_type": "stream",
     "text": [
      "id                        int64\n",
      "date             datetime64[ns]\n",
      "price                   float64\n",
      "bedrooms                  int64\n",
      "bathrooms               float64\n",
      "sqft_living               int64\n",
      "sqft_lot                  int64\n",
      "floors                  float64\n",
      "waterfront             category\n",
      "view                   category\n",
      "condition              category\n",
      "grade                  category\n",
      "sqft_above                int64\n",
      "sqft_basement             int64\n",
      "yr_built                  int64\n",
      "yr_renovated              int64\n",
      "zipcode                   int64\n",
      "lat                     float64\n",
      "long                    float64\n",
      "sqft_living15             int64\n",
      "sqft_lot15                int64\n",
      "dtype: object\n"
     ]
    }
   ],
   "source": [
    "# columns to convert to categorical\n",
    "data[['waterfront', 'view', 'condition', 'grade']] = data[['waterfront', 'view', 'condition', 'grade']].astype('category')\n",
    "\n",
    "# Check the data types to verify the change\n",
    "print(data.dtypes)"
   ]
  },
  {
   "cell_type": "code",
   "execution_count": 38,
   "id": "3d1600e3",
   "metadata": {},
   "outputs": [
    {
     "data": {
      "image/png": "[encoded data removed]",
      "text/plain": [
       "<Figure size 1000x600 with 1 Axes>"
      ]
     },
     "metadata": {},
     "output_type": "display_data"
    }
   ],
   "source": [
    "# drop the 'id' column from the dataset\n",
    "data_for_boxplot = data.drop(columns=['id'])\n",
    "\n",
    "# box plot \n",
    "plt.figure(figsize=(10, 6))\n",
    "data_for_boxplot.boxplot()\n",
    "plt.title(\"Box Plot of the Dataset\")\n",
    "plt.xticks(rotation=90)\n",
    "plt.show()"
   ]
  },
  {
   "cell_type": "markdown",
   "id": "f2953e52",
   "metadata": {},
   "source": [
    "## Logarithmic Transformation: (variables containing price and sqft)"
   ]
  },
  {
   "cell_type": "code",
   "execution_count": 39,
   "id": "9f7aab0c",
   "metadata": {},
   "outputs": [],
   "source": [
    "data['log_price'] = np.log(data['price'])"
   ]
  },
  {
   "cell_type": "code",
   "execution_count": 40,
   "id": "2585ba66",
   "metadata": {},
   "outputs": [],
   "source": [
    "data['log_sqft_lot'] = np.log(data['sqft_lot'])"
   ]
  },
  {
   "cell_type": "code",
   "execution_count": 41,
   "id": "70e7b8ed",
   "metadata": {},
   "outputs": [],
   "source": [
    "data['log_sqft_lot15'] = np.log(data['sqft_lot15'])"
   ]
  },
  {
   "cell_type": "code",
   "execution_count": 42,
   "id": "7cca294f",
   "metadata": {},
   "outputs": [],
   "source": [
    "data['log_sqft_living'] = np.log(data['sqft_living'])"
   ]
  },
  {
   "cell_type": "code",
   "execution_count": 43,
   "id": "6d00dc2d",
   "metadata": {},
   "outputs": [
    {
     "data": {
      "image/png": "[encoded data removed]",
      "text/plain": [
       "<Figure size 1000x600 with 1 Axes>"
      ]
     },
     "metadata": {},
     "output_type": "display_data"
    }
   ],
   "source": [
    "# box plot for the modified dataset\n",
    "plt.figure(figsize=(10, 6))\n",
    "data_for_boxplot.boxplot()\n",
    "plt.title(\"Box Plot of the Dataset (log transformation)\")\n",
    "plt.xticks(rotation=90)\n",
    "plt.show()"
   ]
  },
  {
   "cell_type": "code",
   "execution_count": 44,
   "id": "e2f561e6",
   "metadata": {},
   "outputs": [
    {
     "data": {
      "text/plain": [
       "id                          int64\n",
       "date               datetime64[ns]\n",
       "price                     float64\n",
       "bedrooms                    int64\n",
       "bathrooms                 float64\n",
       "sqft_living                 int64\n",
       "sqft_lot                    int64\n",
       "floors                    float64\n",
       "waterfront               category\n",
       "view                     category\n",
       "condition                category\n",
       "grade                    category\n",
       "sqft_above                  int64\n",
       "sqft_basement               int64\n",
       "yr_built                    int64\n",
       "yr_renovated                int64\n",
       "zipcode                     int64\n",
       "lat                       float64\n",
       "long                      float64\n",
       "sqft_living15               int64\n",
       "sqft_lot15                  int64\n",
       "log_price                 float64\n",
       "log_sqft_lot              float64\n",
       "log_sqft_lot15            float64\n",
       "log_sqft_living           float64\n",
       "dtype: object"
      ]
     },
     "execution_count": 44,
     "metadata": {},
     "output_type": "execute_result"
    }
   ],
   "source": [
    "data.dtypes"
   ]
  },
  {
   "cell_type": "code",
   "execution_count": 45,
   "id": "f12af237",
   "metadata": {},
   "outputs": [],
   "source": [
    "# save the dataframe:\n",
    "data.to_csv('clean_data.csv', index=False)"
   ]
  },
  {
   "cell_type": "code",
   "execution_count": null,
   "id": "6c451fdc",
   "metadata": {},
   "outputs": [],
   "source": []
  }
 ],
 "metadata": {
  "kernelspec": {
   "display_name": "Python 3 (ipykernel)",
   "language": "python",
   "name": "python3"
  },
  "language_info": {
   "codemirror_mode": {
    "name": "ipython",
    "version": 3
   },
   "file_extension": ".py",
   "mimetype": "text/x-python",
   "name": "python",
   "nbconvert_exporter": "python",
   "pygments_lexer": "ipython3",
   "version": "3.9.13"
  }
 },
 "nbformat": 4,
 "nbformat_minor": 5
}
